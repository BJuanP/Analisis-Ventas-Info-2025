{
  "nbformat": 4,
  "nbformat_minor": 0,
  "metadata": {
    "colab": {
      "provenance": [],
      "collapsed_sections": [
        "HDVa0IYR_FhP"
      ],
      "toc_visible": true,
      "authorship_tag": "ABX9TyNRs57YmFxsj1yH/SKe0xLx",
      "include_colab_link": true
    },
    "kernelspec": {
      "name": "python3",
      "display_name": "Python 3"
    },
    "language_info": {
      "name": "python"
    }
  },
  "cells": [
    {
      "cell_type": "markdown",
      "metadata": {
        "id": "view-in-github",
        "colab_type": "text"
      },
      "source": [
        "<a href=\"https://colab.research.google.com/github/miguelpuente/Analisis-Ventas-Python-Pandas/blob/etl/An%C3%A1lisis_de_datos_1.ipynb\" target=\"_parent\"><img src=\"https://colab.research.google.com/assets/colab-badge.svg\" alt=\"Open In Colab\"/></a>"
      ]
    },
    {
      "cell_type": "markdown",
      "source": [
        "# Análisis de datos"
      ],
      "metadata": {
        "id": "ZpGBpVI69dCK"
      }
    },
    {
      "cell_type": "markdown",
      "source": [
        "## ETL (Extración, Transformación y Carga)"
      ],
      "metadata": {
        "id": "90wIlmqG-Lg9"
      }
    },
    {
      "cell_type": "markdown",
      "source": [
        "### 1. Extración (Extract)"
      ],
      "metadata": {
        "id": "HDVa0IYR_FhP"
      }
    },
    {
      "cell_type": "code",
      "source": [
        "from google.colab import drive\n",
        "import pandas as pd\n",
        "import chardet\n",
        "\n",
        "# Montamos Google Drive para acceder al archivo\n",
        "drive.mount('/content/drive', force_remount=True)\n",
        "\n",
        "ruta_archivo = '/content/drive/MyDrive/ventas.csv'\n",
        "with open(ruta_archivo, 'rb') as f:\n",
        "    result = chardet.detect(f.read())\n",
        "\n",
        "try:\n",
        "  df = pd.read_csv(ruta_archivo, encoding=result['encoding'], sep=';', decimal=',')\n",
        "  print('Extración de datos exitosa')\n",
        "except FileNotFoundError:\n",
        "  print(f'El archivo no se encuentra en la ruta: {ruta_archivo}')\n"
      ],
      "metadata": {
        "id": "tP52fw6J-Zay"
      },
      "execution_count": 15,
      "outputs": []
    },
    {
      "cell_type": "markdown",
      "source": [
        "### 2. Transformación (Transform)"
      ],
      "metadata": {
        "id": "uOweJMitEXwj"
      }
    },
    {
      "cell_type": "code",
      "source": [
        "# Muestra las primeras 5 filas del DataFrame\n",
        "df.head(10)"
      ],
      "metadata": {
        "id": "inHLG0A8EvvZ"
      },
      "execution_count": null,
      "outputs": []
    },
    {
      "cell_type": "code",
      "source": [
        "# Resumen de la información del DataFrame\n",
        "df.info()"
      ],
      "metadata": {
        "id": "1g3Vwm0IIjO4"
      },
      "execution_count": null,
      "outputs": []
    },
    {
      "cell_type": "code",
      "source": [],
      "metadata": {
        "id": "WjQL0niO7Fc_"
      },
      "execution_count": 16,
      "outputs": []
    },
    {
      "cell_type": "code",
      "source": [
        "# Renombrar columnas para facilitar el acceso y evitar caracteres especiales\n",
        "df.rename(columns ={\n",
        "    'Tienda': 'tienda',\n",
        "    'Marca': 'marca',\n",
        "    'Tipo': 'tipo',\n",
        "    'Gï¿½nero': 'genero',\n",
        "    'Talla': 'talla',\n",
        "    'Color': 'color',\n",
        "    'Categoria': 'categoria',\n",
        "    'precio de venta': 'precio',\n",
        "    'Fecha': 'fecha',\n",
        "    'Hora': 'hora'\n",
        "}, inplace=True)\n",
        "\n",
        "# Convertí la columna 'precio' a numérica\n",
        "df['precio'] = df['precio'].astype(str)\n",
        "df['precio'] = df['precio'].str.replace(',', '.', regex=True).astype(float)\n",
        "\n",
        "# Limpiar y unificar los datos de la columna 'genero'\n",
        "df['genero'] = df['genero'].str.replace('Masculino', 'M', regex=False).str.replace('Femenino', 'F', regex=False).str.replace('Usinex', 'U', regex=False)\n",
        "\n",
        "# Crear una columna de fecha y hora combinada y convertila al tipo datatime\n",
        "df['fecha_hora'] = pd.to_datetime(df['fecha'] + ' ' + df['hora'], format='%d/%m/%Y %H:%M:%S')\n",
        "\n",
        "# Eliminar las columnas originales de fecha y hora\n",
        "df.drop(columns=['fecha', 'hora'], inplace=True)\n",
        "\n",
        "print(\"Transformación de datos exitosa\")\n"
      ],
      "metadata": {
        "colab": {
          "base_uri": "https://localhost:8080/"
        },
        "id": "sP1g9ZhGLEF_",
        "outputId": "bfcfc196-9fba-4751-e6e3-bd449bd83fe7"
      },
      "execution_count": 17,
      "outputs": [
        {
          "output_type": "stream",
          "name": "stdout",
          "text": [
            "Transformación de datos exitosa\n"
          ]
        }
      ]
    },
    {
      "cell_type": "markdown",
      "source": [
        "### 3. Carga (Load)"
      ],
      "metadata": {
        "id": "RW8p7SsxBOAf"
      }
    },
    {
      "cell_type": "code",
      "source": [
        "# definir la ruta de salida para guardar el nuevo CSV\n",
        "ruta_salida = '/content/drive/MyDrive/ventas_transformadas.csv'\n",
        "\n",
        "# Guardar el dataframe transformado en un nuevo archivo CSV en Drive\n",
        "df.to_csv(ruta_salida, index=False, sep=',')\n",
        "\n",
        "print(f'Archivo CSV guardado en: {ruta_salida}')"
      ],
      "metadata": {
        "colab": {
          "base_uri": "https://localhost:8080/"
        },
        "id": "9zxL45boBcdF",
        "outputId": "683d9bdd-15e6-46bb-d3e2-0c532b912352"
      },
      "execution_count": 21,
      "outputs": [
        {
          "output_type": "stream",
          "name": "stdout",
          "text": [
            "Archivo CSV guardado en: /content/drive/MyDrive/ventas_transformadas.csv\n"
          ]
        }
      ]
    }
  ]
}